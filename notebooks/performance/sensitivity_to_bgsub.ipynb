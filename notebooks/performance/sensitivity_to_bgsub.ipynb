{
 "cells": [
  {
   "cell_type": "markdown",
   "metadata": {},
   "source": [
    "### Sensitivity to background subtraction miss of RRG and CNN estimators"
   ]
  },
  {
   "cell_type": "code",
   "execution_count": null,
   "metadata": {
    "ExecuteTime": {
     "end_time": "2017-12-05T14:43:59.197288Z",
     "start_time": "2017-12-05T14:43:59.194378Z"
    }
   },
   "outputs": [],
   "source": [
    "import math as ma\n",
    "import numpy as np\n",
    "import matplotlib.pyplot as plt\n",
    "\n",
    "from os.path import expanduser\n",
    "\n",
    "from wlenet import config\n",
    "from wlenet.models.calibrate import step_bias_calib, step_bias_correct\n",
    "from wlenet.models.utils import get_output_dim, load_model, load_spec, save_spec, print_spec\n",
    "from wlenet.dataset.io import load_sim\n",
    "from wlenet.dataset.sequences import CorrelatedNoiseSequence, generate_batches\n",
    "from wlenet.dataset.normalization import norm_mean_std\n",
    "from wlenet.reduction.stamps import half_light_radii"
   ]
  },
  {
   "cell_type": "code",
   "execution_count": 2,
   "metadata": {},
   "outputs": [],
   "source": [
    "model_spec = load_spec('cnn_image_clash_uniform_mse')\n",
    "test_sets = ['clash_003_test']\n",
    "bg_miss_bins = np.array([0.03125, 0.0625, 0.125, 0.25])\n",
    "num_batches = 2000\n",
    "save_figures = True"
   ]
  },
  {
   "cell_type": "code",
   "execution_count": 3,
   "metadata": {},
   "outputs": [],
   "source": [
    "model = load_model(model_spec, load_weights=True, show_summary=False)"
   ]
  },
  {
   "cell_type": "code",
   "execution_count": 4,
   "metadata": {},
   "outputs": [],
   "source": [
    "noise_kernel_path = config['calibration_path'] + '/' +  model_spec['kwargs_dataset']['noise_kernel_name'] + '_noise_kernel.npy'\n",
    "noise_kernel = np.load(expanduser(noise_kernel_path)) *  model_spec['kwargs_dataset']['noise_kernel_factor']\n",
    "post_sim = model_spec['kwargs_dataset']['post_sim']\n",
    "output_dim = get_output_dim(model)"
   ]
  },
  {
   "cell_type": "code",
   "execution_count": 5,
   "metadata": {},
   "outputs": [],
   "source": [
    "from wlenet.reduction.stamps import half_light_radii, chi_shapes, rrg_shapes\n",
    "\n",
    "\n",
    "def rrg_performance(x_seq_test, y_seq_test, max_radius=10, num_trials=60):\n",
    "    \n",
    "    psf_radius = (0.12 / 0.065) / 2.355    \n",
    "    radii = half_light_radii(x_seq_test)\n",
    "    y_rrg = rrg_shapes(x_seq_test, radii, psf_radius)\n",
    "    inds = np.all(np.abs(y_rrg) < 1.0, axis=1)\n",
    "    _, _, rmse = step_bias_calib(y_seq_test[inds, :], y_rrg[inds, :], verbose=False)\n",
    "\n",
    "    return rmse"
   ]
  },
  {
   "cell_type": "code",
   "execution_count": 6,
   "metadata": {},
   "outputs": [],
   "source": [
    "source_test = dict(zip(('x', 'y'), load_sim(test_sets, 'test', output_dim, post_sim=post_sim)))\n",
    "seq_test = CorrelatedNoiseSequence(source_test, noise_kernel, norm_func=None)\n",
    "x_seq_test, y_seq_test, inds_seq_test = generate_batches(seq_test, num_batches)"
   ]
  },
  {
   "cell_type": "code",
   "execution_count": 7,
   "metadata": {},
   "outputs": [],
   "source": [
    "x_seq_radii = half_light_radii(x_seq_test).reshape(-1, 1, 1, 1)\n",
    "x_seq_flux = np.sum(x_seq_test, axis=(1,2), keepdims=True)\n",
    "x_seq_signal = x_seq_flux / (ma.pi * x_seq_radii**2)"
   ]
  },
  {
   "cell_type": "code",
   "execution_count": 8,
   "metadata": {
    "ExecuteTime": {
     "end_time": "2017-12-05T10:06:48.494128Z",
     "start_time": "2017-12-05T10:06:48.166179Z"
    }
   },
   "outputs": [
    {
     "name": "stdout",
     "output_type": "stream",
     "text": [
      "308000\n",
      "[0.2678359  0.26797454]\n",
      "308000\n",
      "[0.28244337 0.28423512]\n",
      "308000\n",
      "[0.30575234 0.30819911]\n",
      "308000\n",
      "[0.34282295 0.34885557]\n"
     ]
    }
   ],
   "source": [
    "test_rrg_rmse = np.zeros((len(bg_miss_bins), 2))\n",
    "\n",
    "for i in range(len(bg_miss_bins)):\n",
    "\n",
    "    bg_miss = (np.random.rand(len(x_seq_test), 1, 1, 1) - 0.5) * bg_miss_bins[i] * x_seq_signal\n",
    "    test_rrg_rmse[i, :] = rrg_performance(x_seq_test + bg_miss, y_seq_test)    \n",
    "\n",
    "    print(source_test['x'].shape[0])\n",
    "    print(test_rrg_rmse[i, :])"
   ]
  },
  {
   "cell_type": "code",
   "execution_count": 9,
   "metadata": {},
   "outputs": [
    {
     "data": {
      "image/png": "[encoded data removed]",
      "text/plain": [
       "<matplotlib.figure.Figure at 0x7f9c27633160>"
      ]
     },
     "metadata": {},
     "output_type": "display_data"
    }
   ],
   "source": [
    "plt.rcParams['figure.figsize'] = (4.75,3.15)\n",
    "fig, ax1 = plt.subplots()\n",
    "cnn_rmse = [0.220047905] * len(bg_miss_bins)\n",
    "\n",
    "ax1.set_xlabel('Background estimation miss [proportion of signal]')\n",
    "ax1.set_ylabel('RMS')\n",
    "ax1.semilogx(bg_miss_bins, np.mean(test_rrg_rmse, 1), 'o--', label='RRG')\n",
    "ax1.semilogx(bg_miss_bins, cnn_rmse, 'o-', label='CNN')\n",
    "\n",
    "plt.ylim([0.20, 0.375])\n",
    "plt.xlim([0.02, 0.3])\n",
    "plt.grid('on', which='major', axis='both')\n",
    "plt.grid('on', which='minor', axis='x')\n",
    "ax1.minorticks_on()\n",
    "ax1.legend(loc='upper left')\n",
    "plt.gcf().subplots_adjust(bottom=0.15, left=0.15)\n",
    "\n",
    "if save_figures:\n",
    "    fig_path = expanduser(config['figure_path'] + '/performance/sensitivity_to_bgsub.pdf')\n",
    "    plt.savefig(fig_path)"
   ]
  },
  {
   "cell_type": "markdown",
   "metadata": {},
   "source": [
    "Reduced shear RMSE of the CNN estimator and RRG estimator for galaxies simulated to match the CLASH magnitude-radius distribution for varying background subtraction estimation miss."
   ]
  }
 ],
 "metadata": {
  "hide_input": false,
  "kernelspec": {
   "display_name": "Python 3",
   "language": "python",
   "name": "python3"
  },
  "language_info": {
   "codemirror_mode": {
    "name": "ipython",
    "version": 3
   },
   "file_extension": ".py",
   "mimetype": "text/x-python",
   "name": "python",
   "nbconvert_exporter": "python",
   "pygments_lexer": "ipython3",
   "version": "3.5.3"
  },
  "toc": {
   "colors": {
    "hover_highlight": "#DAA520",
    "navigate_num": "#000000",
    "navigate_text": "#333333",
    "running_highlight": "#FF0000",
    "selected_highlight": "#FFD700",
    "sidebar_border": "#EEEEEE",
    "wrapper_background": "#FFFFFF"
   },
   "moveMenuLeft": true,
   "nav_menu": {
    "height": "12px",
    "width": "252px"
   },
   "navigate_menu": true,
   "number_sections": true,
   "sideBar": true,
   "threshold": 4,
   "toc_cell": false,
   "toc_section_display": "block",
   "toc_window_display": false,
   "widenNotebook": false
  },
  "varInspector": {
   "cols": {
    "lenName": 16,
    "lenType": 16,
    "lenVar": 40
   },
   "kernels_config": {
    "python": {
     "delete_cmd_postfix": "",
     "delete_cmd_prefix": "del ",
     "library": "var_list.py",
     "varRefreshCmd": "print(var_dic_list())"
    },
    "r": {
     "delete_cmd_postfix": ") ",
     "delete_cmd_prefix": "rm(",
     "library": "var_list.r",
     "varRefreshCmd": "cat(var_dic_list()) "
    }
   },
   "types_to_exclude": [
    "module",
    "function",
    "builtin_function_or_method",
    "instance",
    "_Feature"
   ],
   "window_display": false
  }
 },
 "nbformat": 4,
 "nbformat_minor": 2
}
