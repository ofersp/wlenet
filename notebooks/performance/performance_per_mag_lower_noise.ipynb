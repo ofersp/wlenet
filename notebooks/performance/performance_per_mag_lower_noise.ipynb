{
 "cells": [
  {
   "cell_type": "markdown",
   "metadata": {},
   "source": [
    "### Performance of reduced shear estimation per magnitude bin of RRG and CNN estimators"
   ]
  },
  {
   "cell_type": "code",
   "execution_count": null,
   "metadata": {
    "ExecuteTime": {
     "end_time": "2017-12-05T14:43:59.197288Z",
     "start_time": "2017-12-05T14:43:59.194378Z"
    }
   },
   "outputs": [],
   "source": [
    "import math as ma\n",
    "import numpy as np\n",
    "import matplotlib.pyplot as plt\n",
    "\n",
    "from os.path import expanduser\n",
    "\n",
    "from wlenet import config\n",
    "from wlenet.misc.gpu import avoid_gpu_in_this_process; avoid_gpu_in_this_process()\n",
    "from wlenet.models.calibrate import step_bias_calib, step_bias_correct\n",
    "from wlenet.models.utils import get_output_dim, load_model, load_spec, save_spec, print_spec\n",
    "from wlenet.dataset.io import load_sim, load_target\n",
    "from wlenet.dataset.sequences import CorrelatedNoiseSequence, generate_batches\n",
    "from wlenet.dataset.figures import show_stamps\n",
    "from wlenet.models.figures import show_scatter_label_pred, show_first_conv_kernels\n",
    "from wlenet.models.predict import predict, predict_test_time_aug\n",
    "from wlenet.dataset.normalization import norm_mean_std"
   ]
  },
  {
   "cell_type": "code",
   "execution_count": 2,
   "metadata": {},
   "outputs": [],
   "source": [
    "test_sets = ['clash_003_test']\n",
    "mag_auto_edges = np.array([17, 20.5, 21.5, 22.5, 23.5, 25.5])\n",
    "num_batches = 2000\n",
    "save_figures = True"
   ]
  },
  {
   "cell_type": "code",
   "execution_count": 3,
   "metadata": {},
   "outputs": [],
   "source": [
    "from wlenet.reduction.stamps import half_light_radii, chi_shapes, rrg_shapes\n",
    "\n",
    "\n",
    "def model_performance(x_seq_test, y_seq_test, model):\n",
    "    \n",
    "    y_seq_ptta = predict_test_time_aug(norm_mean_std(x_seq_test), model)\n",
    "    y_seq_ptta, calib_ptta, rmse_ptta = step_bias_calib(y_seq_test, y_seq_ptta, verbose=False)\n",
    "    \n",
    "    return rmse_ptta\n",
    "\n",
    "\n",
    "def rrg_performance(x_seq_test, y_seq_test, max_radius=10, num_trials=60):\n",
    "    \n",
    "    psf_radius = (0.12 / 0.065) / 2.355    \n",
    "    radii = half_light_radii(x_seq_test)\n",
    "    y_rrg = rrg_shapes(x_seq_test, radii, psf_radius)\n",
    "    inds = np.all(np.abs(y_rrg) < 1.0, axis=1)\n",
    "    _, _, rmse = step_bias_calib(y_seq_test[inds, :], y_rrg[inds, :], verbose=False)\n",
    "\n",
    "    return rmse"
   ]
  },
  {
   "cell_type": "code",
   "execution_count": 4,
   "metadata": {},
   "outputs": [],
   "source": [
    "def test_model_and_rrg(model_name):\n",
    "    \n",
    "    model_spec = load_spec(model_name)\n",
    "    model = load_model(model_spec, load_weights=True, show_summary=False)\n",
    "\n",
    "    noise_kernel_path = config['calibration_path'] + '/' +  model_spec['kwargs_dataset']['noise_kernel_name'] + '_noise_kernel.npy'\n",
    "    noise_kernel = np.load(expanduser(noise_kernel_path)) *  model_spec['kwargs_dataset']['noise_kernel_factor']\n",
    "    post_sim = model_spec['kwargs_dataset']['post_sim']\n",
    "    output_dim = get_output_dim(model)\n",
    "\n",
    "    test_model_rmse = np.zeros((len(mag_auto_edges) - 1, 2))\n",
    "    test_rrg_rmse = np.zeros((len(mag_auto_edges) - 1, 2))\n",
    "\n",
    "    for i in range(len(mag_auto_edges) - 1):\n",
    "\n",
    "        post_sim['mag_auto_min'] = mag_auto_edges[i]\n",
    "        post_sim['mag_auto_max'] = mag_auto_edges[i+1]\n",
    "\n",
    "        source_test = dict(zip(('x', 'y'), load_sim(test_sets, 'test', output_dim, post_sim=post_sim)))\n",
    "        seq_test = CorrelatedNoiseSequence(source_test, noise_kernel, norm_func=None)\n",
    "\n",
    "        x_seq_test, y_seq_test, inds_seq_test = generate_batches(seq_test, num_batches)\n",
    "\n",
    "        test_model_rmse[i, :] = model_performance(x_seq_test, y_seq_test, model)\n",
    "        test_rrg_rmse[i, :] = rrg_performance(x_seq_test, y_seq_test)    \n",
    "\n",
    "        print(source_test['x'].shape[0])\n",
    "        print(test_model_rmse[i, :])\n",
    "        print(test_rrg_rmse[i, :])\n",
    "\n",
    "    return test_model_rmse, test_rrg_rmse"
   ]
  },
  {
   "cell_type": "code",
   "execution_count": 5,
   "metadata": {},
   "outputs": [
    {
     "name": "stdout",
     "output_type": "stream",
     "text": [
      "16726\n",
      "[0.14993623 0.15524229]\n",
      "[0.21961838 0.22343614]\n",
      "37053\n",
      "[0.18961741 0.18945862]\n",
      "[0.23822281 0.24286602]\n",
      "90119\n",
      "[0.20085418 0.20045874]\n",
      "[0.24732306 0.24445544]\n",
      "113162\n",
      "[0.22327224 0.22729555]\n",
      "[0.25101102 0.25390473]\n",
      "50926\n",
      "[0.25746055 0.25883224]\n",
      "[0.25911962 0.25834653]\n",
      "16726\n",
      "[0.15338207 0.15917089]\n",
      "[0.21962733 0.22347146]\n",
      "37053\n",
      "[0.19444713 0.19555845]\n",
      "[0.23832724 0.24306853]\n",
      "90119\n",
      "[0.20821592 0.2080038 ]\n",
      "[0.24811805 0.24525126]\n",
      "113162\n",
      "[0.23043812 0.23385114]\n",
      "[0.25225049 0.25507036]\n",
      "50926\n",
      "[0.26122384 0.26192593]\n",
      "[0.26548292 0.26471693]\n",
      "16726\n",
      "[0.15298801 0.1572291 ]\n",
      "[0.21972048 0.22356834]\n",
      "37053\n",
      "[0.19766821 0.19798327]\n",
      "[0.23907194 0.24384033]\n",
      "90119\n",
      "[0.21317239 0.21116666]\n",
      "[0.25009929 0.2472939 ]\n",
      "113162\n",
      "[0.2397302  0.24297863]\n",
      "[0.25748027 0.26036891]\n",
      "50926\n",
      "[0.2768462  0.27892353]\n",
      "[0.28958071 0.29143995]\n"
     ]
    }
   ],
   "source": [
    "test_model_rmse_0250, test_rrg_rmse_0250 = test_model_and_rrg('cnn_image_clash_uniform_mse_lsq_noise_0.250')\n",
    "test_model_rmse_0500, test_rrg_rmse_0500 = test_model_and_rrg('cnn_image_clash_uniform_mse_lsq_noise_0.500')\n",
    "test_model_rmse_1000, test_rrg_rmse_1000 = test_model_and_rrg('cnn_image_clash_uniform_mse_lsq')"
   ]
  },
  {
   "cell_type": "code",
   "execution_count": 6,
   "metadata": {},
   "outputs": [
    {
     "data": {
      "image/png": "[encoded data removed]",
      "text/plain": [
       "<matplotlib.figure.Figure at 0x7f1c729ff828>"
      ]
     },
     "metadata": {},
     "output_type": "display_data"
    }
   ],
   "source": [
    "mag_auto_centers = (mag_auto_edges[1:] + mag_auto_edges[:-1]) / 2\n",
    "cosmos_to_clash_delta_m = 2.1391725988718227\n",
    "\n",
    "plt.rcParams['figure.figsize'] = (5.25,3.15)\n",
    "fig, ax1 = plt.subplots()\n",
    "\n",
    "ax1.set_xlabel(r'$M_{\\mathrm{total}}$')\n",
    "ax1.set_ylabel('RMS')\n",
    "\n",
    "ax1.plot(mag_auto_centers + cosmos_to_clash_delta_m, np.mean(test_rrg_rmse_0250, 1), '.--', color='C2', label='RRG (1/4)')\n",
    "ax1.plot(mag_auto_centers + cosmos_to_clash_delta_m, np.mean(test_model_rmse_0250, 1), '.-', color='C2', label='CNN (1/4)')\n",
    "\n",
    "ax1.plot(mag_auto_centers + cosmos_to_clash_delta_m, np.mean(test_rrg_rmse_0500, 1), '.--', color='C1', label='RRG (1/2)')\n",
    "ax1.plot(mag_auto_centers + cosmos_to_clash_delta_m, np.mean(test_model_rmse_0500, 1), '.-', color='C1', label='CNN (1/2)')\n",
    "\n",
    "ax1.plot(mag_auto_centers + cosmos_to_clash_delta_m, np.mean(test_rrg_rmse_1000, 1), '.--', color='C0', label='RRG (1/1)')\n",
    "ax1.plot(mag_auto_centers + cosmos_to_clash_delta_m, np.mean(test_model_rmse_1000, 1), '.-', color='C0', label='CNN (1/1)')\n",
    "\n",
    "plt.xlim(np.array([mag_auto_edges[0] + cosmos_to_clash_delta_m, mag_auto_edges[-1] + cosmos_to_clash_delta_m]))\n",
    "plt.ylim([0.145, 0.305])\n",
    "plt.grid('on')\n",
    "\n",
    "for i in range(len(mag_auto_edges) - 1):\n",
    "    alpha = [0.12, 0.06][i % 2]\n",
    "    ax1.axvspan(mag_auto_edges[i] + cosmos_to_clash_delta_m, mag_auto_edges[i+1] + cosmos_to_clash_delta_m, \n",
    "                alpha=alpha, color='green', linewidth=0.5)\n",
    "ax1.minorticks_on()\n",
    "#ax1.legend(loc='upper left')\n",
    "ax1.legend(loc='bottom right', bbox_to_anchor=(0.89,0.72))\n",
    "plt.gcf().subplots_adjust(bottom=0.15, left=0.15, right=0.82)\n",
    "#plt.tight_layout()\n",
    "\n",
    "if save_figures:\n",
    "    fig_path = expanduser(config['figure_path'] + '/performance/performance_per_mag_lower_noise.pdf')\n",
    "    plt.savefig(fig_path)"
   ]
  }
 ],
 "metadata": {
  "hide_input": false,
  "kernelspec": {
   "display_name": "Python 3",
   "language": "python",
   "name": "python3"
  },
  "language_info": {
   "codemirror_mode": {
    "name": "ipython",
    "version": 3
   },
   "file_extension": ".py",
   "mimetype": "text/x-python",
   "name": "python",
   "nbconvert_exporter": "python",
   "pygments_lexer": "ipython3",
   "version": "3.5.3"
  },
  "toc": {
   "colors": {
    "hover_highlight": "#DAA520",
    "navigate_num": "#000000",
    "navigate_text": "#333333",
    "running_highlight": "#FF0000",
    "selected_highlight": "#FFD700",
    "sidebar_border": "#EEEEEE",
    "wrapper_background": "#FFFFFF"
   },
   "moveMenuLeft": true,
   "nav_menu": {
    "height": "12px",
    "width": "252px"
   },
   "navigate_menu": true,
   "number_sections": true,
   "sideBar": true,
   "threshold": 4,
   "toc_cell": false,
   "toc_section_display": "block",
   "toc_window_display": false,
   "widenNotebook": false
  },
  "varInspector": {
   "cols": {
    "lenName": 16,
    "lenType": 16,
    "lenVar": 40
   },
   "kernels_config": {
    "python": {
     "delete_cmd_postfix": "",
     "delete_cmd_prefix": "del ",
     "library": "var_list.py",
     "varRefreshCmd": "print(var_dic_list())"
    },
    "r": {
     "delete_cmd_postfix": ") ",
     "delete_cmd_prefix": "rm(",
     "library": "var_list.r",
     "varRefreshCmd": "cat(var_dic_list()) "
    }
   },
   "types_to_exclude": [
    "module",
    "function",
    "builtin_function_or_method",
    "instance",
    "_Feature"
   ],
   "window_display": false
  }
 },
 "nbformat": 4,
 "nbformat_minor": 2
}
