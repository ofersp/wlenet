{
 "cells": [
  {
   "cell_type": "markdown",
   "metadata": {},
   "source": [
    "### Sensitivity to centroid miss of RRG and CNN estimators"
   ]
  },
  {
   "cell_type": "code",
   "execution_count": null,
   "metadata": {},
   "outputs": [],
   "source": [
    "import numpy as np\n",
    "import math as ma\n",
    "import matplotlib.pyplot as plt\n",
    "\n",
    "from os.path import expanduser\n",
    "\n",
    "from wlenet import config\n",
    "from wlenet.models.calibrate import step_bias_calib, step_bias_correct\n",
    "from wlenet.models.utils import get_output_dim, load_model, load_spec, save_spec, print_spec\n",
    "from wlenet.simulation.galsim_simulation import GalsimSimulation\n",
    "from wlenet.dataset.io import load_sim\n",
    "from wlenet.dataset.sequences import CorrelatedNoiseSequence, generate_batches\n",
    "from wlenet.models.predict import predict_test_time_aug\n",
    "from wlenet.dataset.normalization import norm_mean_std"
   ]
  },
  {
   "cell_type": "code",
   "execution_count": 2,
   "metadata": {},
   "outputs": [],
   "source": [
    "model_spec = load_spec('cnn_image_clash_uniform_mse_lsq')\n",
    "cosmos_sim_name = 'clash_003_test'\n",
    "shift_range_proportion_bins = np.array([0.0, 0.25, 0.5, 0.75])\n",
    "noise_kernel_name = 'clash'\n",
    "noise_kernel_factor = 1.0\n",
    "num_gals = 200000\n",
    "num_batches = 2000\n",
    "save_figures = True"
   ]
  },
  {
   "cell_type": "code",
   "execution_count": 3,
   "metadata": {},
   "outputs": [
    {
     "name": "stdout",
     "output_type": "stream",
     "text": [
      "{'arch_name': 'cnn_image',\n",
      " 'calib': (-0.0015137530696129763, 0.007540313076099592, 0.0004530938759174512, 0.010357044292399475),\n",
      " 'kwargs_arch': {'dropout_dense_rate': 0.3, 'out_dim': 2, 'use_discriminator': False, 'use_dropout_dense': True},\n",
      " 'kwargs_dataset': {'noise_kernel_factor': 1.0,\n",
      "                    'noise_kernel_name': 'clash',\n",
      "                    'post_sim': {'flux_cut_min': -inf, 'flux_factor': 0.32, 'intensity_cutoff': 0.012},\n",
      "                    'sim_names_test': ['clash_003_test'],\n",
      "                    'sim_names_train': ['clash_004_train'],\n",
      "                    'target_header_path': None},\n",
      " 'kwargs_train': {'epochs': 100, 'label_loss': 'mean_squared_error', 'patience': 10},\n",
      " 'trained_name': 'cnn_image_clash_uniform_mse_lsq'}\n"
     ]
    }
   ],
   "source": [
    "print_spec(model_spec)"
   ]
  },
  {
   "cell_type": "code",
   "execution_count": 4,
   "metadata": {},
   "outputs": [],
   "source": [
    "model = load_model(model_spec, load_weights=True, show_summary=False)"
   ]
  },
  {
   "cell_type": "code",
   "execution_count": 5,
   "metadata": {},
   "outputs": [],
   "source": [
    "noise_kernel_path = config['calibration_path'] + '/' + noise_kernel_name + '_noise_kernel.npy'\n",
    "noise_kernel = np.load(expanduser(noise_kernel_path)) * noise_kernel_factor"
   ]
  },
  {
   "cell_type": "code",
   "execution_count": 6,
   "metadata": {},
   "outputs": [],
   "source": [
    "from wlenet.reduction.stamps import half_light_radii, chi_shapes, rrg_shapes\n",
    "\n",
    "\n",
    "def model_performance(x_seq_test, y_seq_test):\n",
    "    \n",
    "    y_seq_ptta = predict_test_time_aug(norm_mean_std(x_seq_test), model)\n",
    "    y_seq_ptta, calib_ptta, rmse_ptta = step_bias_calib(y_seq_test, y_seq_ptta, verbose=True)\n",
    "    \n",
    "    return rmse_ptta\n",
    "\n",
    "\n",
    "def rrg_performance(x_seq_test, y_seq_test, max_radius=10, num_trials=60):\n",
    "    \n",
    "    psf_radius = (0.12 / 0.065) / 2.355    \n",
    "    radii = half_light_radii(x_seq_test)\n",
    "    y_rrg = rrg_shapes(x_seq_test, radii, psf_radius)\n",
    "    inds = np.all(np.abs(y_rrg) < 1.0, axis=1)\n",
    "    _, _, rmse = step_bias_calib(y_seq_test[inds, :], y_rrg[inds, :], verbose=True)\n",
    "\n",
    "    return rmse"
   ]
  },
  {
   "cell_type": "code",
   "execution_count": 7,
   "metadata": {},
   "outputs": [],
   "source": [
    "cosmos_sim_path = config['simulation_configs_path'] + '/' + cosmos_sim_name + '_sim.json'\n",
    "gss = GalsimSimulation(cosmos_sim_path)\n",
    "gss.args.test_train = 'test'\n",
    "gss.args.num_gals = num_gals"
   ]
  },
  {
   "cell_type": "code",
   "execution_count": 8,
   "metadata": {},
   "outputs": [
    {
     "name": "stdout",
     "output_type": "stream",
     "text": [
      "Loading the RealGalaxyCatalog real_galaxy_catalog_25.2.fits (preload=1)\n",
      "Using valid-index file ~/datasets/wlenet/calibration/cosmos_valid_indices.npy\n",
      "Using weight-index file ~/datasets/wlenet/calibration/cosmos_to_clash_weights.npy\n",
      "Splitting catalog samples to train and test samples using the static seed\n",
      "Using the static seed for train/test split\n",
      "Total catalog galaxies: 87798\n",
      "Valid catalog galaxies: 87750\n",
      "Train catalog galaxies: 65756\n",
      "Test catalog galaxies : 21994\n",
      "Using the dynamic seed for the rest of this simulation\n"
     ]
    }
   ],
   "source": [
    "gss.init()"
   ]
  },
  {
   "cell_type": "code",
   "execution_count": null,
   "metadata": {},
   "outputs": [],
   "source": [
    "test_model_rmse = np.zeros((len(shift_range_proportion_bins), 2))\n",
    "test_rrg_rmse = np.zeros((len(shift_range_proportion_bins), 2))\n",
    "\n",
    "for i in range(len(shift_range_proportion_bins)):\n",
    "\n",
    "    gss.args.shift_range_proportion = shift_range_proportion_bins[i]\n",
    "\n",
    "    cosmos_stamps, cosmos_shears, cosmos_metadata = gss.render_stamps()\n",
    "    cosmos_stamps = cosmos_stamps[:, :, :, np.newaxis]\n",
    "    cosmos_stamps_ = cosmos_stamps.copy()\n",
    "    cosmos_stamps_[cosmos_stamps_ < model_spec['kwargs_dataset']['post_sim']['intensity_cutoff']] = 0\n",
    "    cosmos_stamps_ = cosmos_stamps_ * model_spec['kwargs_dataset']['post_sim']['flux_factor']\n",
    "\n",
    "    seq = CorrelatedNoiseSequence({'x': cosmos_stamps_, 'y': cosmos_shears}, noise_kernel, norm_func=None)\n",
    "    x_seq_test, y_seq_test, inds_seq_test = generate_batches(seq, num_batches, batch_idx_start=0)\n",
    "\n",
    "    test_model_rmse[i, :] = model_performance(x_seq_test, y_seq_test)\n",
    "    test_rrg_rmse[i, :] = rrg_performance(x_seq_test, y_seq_test)    \n",
    "\n",
    "    print(test_model_rmse[i, :])\n",
    "    print(test_rrg_rmse[i, :])"
   ]
  },
  {
   "cell_type": "code",
   "execution_count": 10,
   "metadata": {},
   "outputs": [
    {
     "data": {
      "image/png": "[encoded data removed]",
      "text/plain": [
       "<matplotlib.figure.Figure at 0x7f7523f2eda0>"
      ]
     },
     "metadata": {},
     "output_type": "display_data"
    }
   ],
   "source": [
    "plt.rcParams['figure.figsize'] = (4.75,3.15)\n",
    "fig, ax1 = plt.subplots()\n",
    "\n",
    "ax1.set_xlabel(\"Misalignment range [proportion of flux radius]\")\n",
    "ax1.set_ylabel('RMS')\n",
    "ax1.plot(shift_range_proportion_bins, np.mean(test_rrg_rmse, 1), 'o--', label='RRG')\n",
    "ax1.plot(shift_range_proportion_bins, np.mean(test_model_rmse, 1), 'o-', label='CNN')\n",
    "plt.ylim([0.20, 0.37])\n",
    "plt.xlim([-0.1, 0.85])\n",
    "plt.grid('on')\n",
    "\n",
    "ax1.minorticks_on()\n",
    "ax1.legend()\n",
    "plt.gcf().subplots_adjust(bottom=0.15, left=0.15)\n",
    "\n",
    "if save_figures:\n",
    "    fig_path = expanduser(config['figure_path'] + '/performance/sensitivity_to_translation.pdf')\n",
    "    plt.savefig(fig_path)"
   ]
  },
  {
   "cell_type": "code",
   "execution_count": null,
   "metadata": {},
   "outputs": [],
   "source": []
  }
 ],
 "metadata": {
  "hide_input": false,
  "kernelspec": {
   "display_name": "Python 3",
   "language": "python",
   "name": "python3"
  },
  "language_info": {
   "codemirror_mode": {
    "name": "ipython",
    "version": 3
   },
   "file_extension": ".py",
   "mimetype": "text/x-python",
   "name": "python",
   "nbconvert_exporter": "python",
   "pygments_lexer": "ipython3",
   "version": "3.5.3"
  },
  "toc": {
   "colors": {
    "hover_highlight": "#DAA520",
    "navigate_num": "#000000",
    "navigate_text": "#333333",
    "running_highlight": "#FF0000",
    "selected_highlight": "#FFD700",
    "sidebar_border": "#EEEEEE",
    "wrapper_background": "#FFFFFF"
   },
   "moveMenuLeft": true,
   "nav_menu": {
    "height": "12px",
    "width": "252px"
   },
   "navigate_menu": true,
   "number_sections": true,
   "sideBar": true,
   "threshold": 4,
   "toc_cell": false,
   "toc_section_display": "block",
   "toc_window_display": false,
   "widenNotebook": false
  }
 },
 "nbformat": 4,
 "nbformat_minor": 2
}
