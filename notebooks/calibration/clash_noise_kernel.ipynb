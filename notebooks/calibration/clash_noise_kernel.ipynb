{
 "cells": [
  {
   "cell_type": "markdown",
   "metadata": {},
   "source": [
    "### Calibrating the CLASH noise kernel"
   ]
  },
  {
   "cell_type": "code",
   "execution_count": 1,
   "metadata": {
    "hide_input": false
   },
   "outputs": [],
   "source": [
    "import math as ma\n",
    "import numpy as np\n",
    "import scipy as sp\n",
    "import matplotlib.pyplot as plt\n",
    "import pandas as pd\n",
    "\n",
    "from os.path import expanduser\n",
    "from scipy.signal import fftconvolve\n",
    "from skimage.util import view_as_blocks, view_as_windows\n",
    "from multiprocessing import Pool, cpu_count\n",
    "\n",
    "from wlenet import config\n",
    "from wlenet.cluster.cluster_lensing import ClusterLensing\n",
    "from wlenet.cluster.cluster_survey import ClusterSurvey\n",
    "from wlenet.reduction.utils import load_image_and_wcs"
   ]
  },
  {
   "cell_type": "code",
   "execution_count": 2,
   "metadata": {},
   "outputs": [],
   "source": [
    "noise_kernel_name = 'clash'\n",
    "save_kernel = True\n",
    "save_figures = True"
   ]
  },
  {
   "cell_type": "code",
   "execution_count": 3,
   "metadata": {},
   "outputs": [],
   "source": [
    "%%capture\n",
    "cluster_template = ClusterLensing(save_check_images=True, keep_image_wht=True, keep_image_bad_pix=True)\n",
    "survey = ClusterSurvey(cluster_template)\n",
    "survey.process_survey()"
   ]
  },
  {
   "cell_type": "code",
   "execution_count": 4,
   "metadata": {},
   "outputs": [],
   "source": [
    "def cluster_noise_cov(cluster):\n",
    "    \n",
    "    image_wht = cluster.image_wht\n",
    "    minus_objects_image = load_image_and_wcs(cluster.catalog_phot_orig['workdir'] +  '/minus_objects.fits')[0]\n",
    "    segmentation_image = load_image_and_wcs(cluster.catalog_phot_orig['workdir'] +  '/segmentation.fits')[0]\n",
    "    minus_background_image = load_image_and_wcs(cluster.catalog_phot_orig['workdir'] +  '/minus_background.fits')[0]\n",
    "\n",
    "    K = np.ones(cluster_template.stamp_sz)\n",
    "    K = K / np.sum(K)\n",
    "    \n",
    "    image_wht_smooth = fftconvolve(image_wht, K, 'same')    \n",
    "    no_detection_image = segmentation_image == 0\n",
    "    mask = (no_detection_image * (image_wht_smooth > cluster_template.cut_params['mean_wht_min']) * \n",
    "            (cluster.image_bad_pix == False)) == False\n",
    "    noise_image = minus_background_image.copy()\n",
    "    noise_image[mask] = np.nan\n",
    "\n",
    "    patches = (view_as_windows(noise_image, (7, 7), step=4).reshape(-1, 7, 7)).copy()\n",
    "    good_ind = np.sum(np.isnan(patches), axis=(1, 2)) == 0\n",
    "    patches = patches[good_ind, :, :].reshape((-1, 49))\n",
    "    cov = (patches.T).dot(patches) / patches.shape[0]\n",
    "    \n",
    "    return cov"
   ]
  },
  {
   "cell_type": "code",
   "execution_count": 5,
   "metadata": {},
   "outputs": [],
   "source": [
    "%%capture\n",
    "mp_pool_size = cpu_count() - 1\n",
    "pool = Pool(mp_pool_size)\n",
    "covs = pool.map(cluster_noise_cov, survey.clusters)\n",
    "mean_cov = np.mean(np.array(covs), axis=0)"
   ]
  },
  {
   "cell_type": "code",
   "execution_count": null,
   "metadata": {
    "hide_input": false,
    "scrolled": false
   },
   "outputs": [],
   "source": [
    "for i, cov in enumerate(covs):\n",
    "    plt.imshow(cov)\n",
    "    print(i, survey.clusters[i].name)\n",
    "    plt.show()\n",
    "pass"
   ]
  },
  {
   "cell_type": "code",
   "execution_count": 7,
   "metadata": {},
   "outputs": [],
   "source": [
    "sqrt_mean_cov = np.real(sp.linalg.sqrtm(mean_cov))\n",
    "noise_kernel = sqrt_mean_cov[24, :].reshape((7, 7))"
   ]
  },
  {
   "cell_type": "code",
   "execution_count": 8,
   "metadata": {},
   "outputs": [],
   "source": [
    "if save_kernel:\n",
    "    noise_kernel_path = config['calibration_path'] + '/' + noise_kernel_name + '_noise_kernel.npy'\n",
    "    np.save(expanduser(noise_kernel_path), noise_kernel)"
   ]
  },
  {
   "cell_type": "code",
   "execution_count": 9,
   "metadata": {},
   "outputs": [
    {
     "data": {
      "image/png": "[encoded data removed]",
      "text/plain": [
       "<matplotlib.figure.Figure at 0x7f89401f1588>"
      ]
     },
     "metadata": {},
     "output_type": "display_data"
    }
   ],
   "source": [
    "plt.figure(figsize = (4, 6))\n",
    "plt.subplot(2,1,1)\n",
    "plt.imshow(np.log10(mean_cov))\n",
    "plt.colorbar()\n",
    "plt.ylabel('$\\log_{10}$ noise patch covariance')\n",
    "\n",
    "plt.subplot(2,1,2)\n",
    "plt.imshow(np.log10(noise_kernel))\n",
    "plt.colorbar()\n",
    "plt.ylabel('$\\log_{10}$ noise correlation kernel');\n",
    "\n",
    "if save_figures:\n",
    "    fig_path = expanduser(config['figure_path'] + '/calibration/clash_noise_kernel.pdf')\n",
    "    plt.savefig(fig_path)"
   ]
  },
  {
   "cell_type": "markdown",
   "metadata": {},
   "source": [
    "The background subtracted noise image was computed and the noise covariance was estimated from all 5x5 pixel patches contained in regions unmasked by detected sources and having a mean weight image above 50,000. Computing a matrix square root of the covariance matrix, we obtain from its central row a kernel that generates these noise correlations by convolution with i.i.d. standard normal noise images."
   ]
  },
  {
   "cell_type": "code",
   "execution_count": 10,
   "metadata": {},
   "outputs": [],
   "source": [
    "survey.remove_tmp_files()"
   ]
  }
 ],
 "metadata": {
  "hide_input": false,
  "kernelspec": {
   "display_name": "Python 3",
   "language": "python",
   "name": "python3"
  },
  "language_info": {
   "codemirror_mode": {
    "name": "ipython",
    "version": 3
   },
   "file_extension": ".py",
   "mimetype": "text/x-python",
   "name": "python",
   "nbconvert_exporter": "python",
   "pygments_lexer": "ipython3",
   "version": "3.5.3"
  },
  "toc": {
   "colors": {
    "hover_highlight": "#DAA520",
    "navigate_num": "#000000",
    "navigate_text": "#333333",
    "running_highlight": "#FF0000",
    "selected_highlight": "#FFD700",
    "sidebar_border": "#EEEEEE",
    "wrapper_background": "#FFFFFF"
   },
   "moveMenuLeft": true,
   "nav_menu": {
    "height": "317px",
    "width": "238px"
   },
   "navigate_menu": true,
   "number_sections": true,
   "sideBar": true,
   "threshold": 4,
   "toc_cell": false,
   "toc_section_display": "block",
   "toc_window_display": false,
   "widenNotebook": false
  },
  "varInspector": {
   "cols": {
    "lenName": 16,
    "lenType": 16,
    "lenVar": 40
   },
   "kernels_config": {
    "python": {
     "delete_cmd_postfix": "",
     "delete_cmd_prefix": "del ",
     "library": "var_list.py",
     "varRefreshCmd": "print(var_dic_list())"
    },
    "r": {
     "delete_cmd_postfix": ") ",
     "delete_cmd_prefix": "rm(",
     "library": "var_list.r",
     "varRefreshCmd": "cat(var_dic_list()) "
    }
   },
   "types_to_exclude": [
    "module",
    "function",
    "builtin_function_or_method",
    "instance",
    "_Feature"
   ],
   "window_display": false
  }
 },
 "nbformat": 4,
 "nbformat_minor": 2
}
