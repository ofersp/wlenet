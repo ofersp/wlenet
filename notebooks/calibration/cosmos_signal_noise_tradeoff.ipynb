{
 "cells": [
  {
   "cell_type": "markdown",
   "metadata": {},
   "source": [
    "### Illustrate the trade-off between noise and masked half-light-radii for a given cutoff"
   ]
  },
  {
   "cell_type": "code",
   "execution_count": 1,
   "metadata": {},
   "outputs": [],
   "source": [
    "import os\n",
    "import math as ma\n",
    "import numpy as np\n",
    "import matplotlib.pyplot as plt\n",
    "import astropy.io.fits as pyfits\n",
    "from os.path import expanduser\n",
    "from wlenet import config"
   ]
  },
  {
   "cell_type": "code",
   "execution_count": 2,
   "metadata": {},
   "outputs": [],
   "source": [
    "save_figures = True"
   ]
  },
  {
   "cell_type": "code",
   "execution_count": 3,
   "metadata": {},
   "outputs": [],
   "source": [
    "cosmos_zeropoint = 25.95534132104084\n",
    "p_t = 0.065\n",
    "p_s = 0.03\n",
    "alpha = 0.5416666666666667\n",
    "I_c = 0.012"
   ]
  },
  {
   "cell_type": "code",
   "execution_count": 4,
   "metadata": {},
   "outputs": [],
   "source": [
    "rgc_path = '~/datasets/wlenet/cosmos/COSMOS_25.2_training_sample/real_galaxy_catalog_25.2.fits'\n",
    "rgc_dir, rgc_file = os.path.split(os.path.expanduser(rgc_path))\n",
    "fits_file = os.path.splitext(rgc_file)[0] + '_fits.fits'\n",
    "rgc_catalog = pyfits.getdata(os.path.join(rgc_dir, rgc_file))\n",
    "fit_catalog = pyfits.getdata(os.path.join(rgc_dir, fits_file))\n",
    "\n",
    "noise_variance_252 = rgc_catalog['NOISE_VARIANCE']\n",
    "R_252 = fit_catalog['flux_radius']\n",
    "F_252 = 10**((cosmos_zeropoint - fit_catalog['mag_auto']) / 2.5)"
   ]
  },
  {
   "cell_type": "code",
   "execution_count": 5,
   "metadata": {},
   "outputs": [],
   "source": [
    "rgc_path = '~/datasets/wlenet/cosmos/COSMOS_23.5_training_sample/real_galaxy_catalog_23.5.fits'\n",
    "rgc_dir, rgc_file = os.path.split(os.path.expanduser(rgc_path))\n",
    "fits_file = os.path.splitext(rgc_file)[0] + '_fits.fits'\n",
    "rgc_catalog = pyfits.getdata(os.path.join(rgc_dir, rgc_file))\n",
    "fit_catalog = pyfits.getdata(os.path.join(rgc_dir, fits_file))\n",
    "\n",
    "noise_variance_235 = rgc_catalog['NOISE_VARIANCE']\n",
    "R_235 = fit_catalog['flux_radius']\n",
    "F_235 = 10**((cosmos_zeropoint - fit_catalog['mag_auto']) / 2.5)"
   ]
  },
  {
   "cell_type": "code",
   "execution_count": 6,
   "metadata": {},
   "outputs": [],
   "source": [
    "sigma_s = (np.mean(noise_variance_252)**0.5 + np.mean(noise_variance_235)**0.5) / 2\n",
    "sigma_t = sigma_s * alpha * (p_t / p_s)"
   ]
  },
  {
   "cell_type": "code",
   "execution_count": 7,
   "metadata": {},
   "outputs": [],
   "source": [
    "n_sqr_252 = (np.log(F_252 / (R_252*p_s/p_t)**2) + ma.log(ma.log(2)/ma.pi) - ma.log(I_c)) / ma.log(2)\n",
    "n_sqr_235 = (np.log(F_235 / (R_235*p_s/p_t)**2) + ma.log(ma.log(2)/ma.pi) - ma.log(I_c)) / ma.log(2)"
   ]
  },
  {
   "cell_type": "code",
   "execution_count": 8,
   "metadata": {},
   "outputs": [
    {
     "data": {
      "image/png": "[encoded data removed]",
      "text/plain": [
       "<matplotlib.figure.Figure at 0x7f55c7ee8630>"
      ]
     },
     "metadata": {},
     "output_type": "display_data"
    }
   ],
   "source": [
    "plt.hist(n_sqr_252, bins=100, alpha=0.5);\n",
    "plt.hist(n_sqr_235, bins=100, alpha=0.5);"
   ]
  },
  {
   "cell_type": "code",
   "execution_count": 9,
   "metadata": {},
   "outputs": [
    {
     "data": {
      "text/plain": [
       "(0.0029188872246838325, 0.003425638478969221, 3.5029966161551336)"
      ]
     },
     "execution_count": 9,
     "metadata": {},
     "output_type": "execute_result"
    }
   ],
   "source": [
    "sigma_s, sigma_t, I_c / sigma_t"
   ]
  },
  {
   "cell_type": "code",
   "execution_count": 10,
   "metadata": {},
   "outputs": [
    {
     "data": {
      "text/plain": [
       "(0.9171279528007472, 0.9956604934053167)"
      ]
     },
     "execution_count": 10,
     "metadata": {},
     "output_type": "execute_result"
    }
   ],
   "source": [
    "np.sum(n_sqr_252>1)/len(n_sqr_252), np.sum(n_sqr_252>0)/len(n_sqr_252)"
   ]
  },
  {
   "cell_type": "code",
   "execution_count": 11,
   "metadata": {},
   "outputs": [
    {
     "data": {
      "text/plain": [
       "(0.9934180014983411, 0.9997859512682388)"
      ]
     },
     "execution_count": 11,
     "metadata": {},
     "output_type": "execute_result"
    }
   ],
   "source": [
    "np.sum(n_sqr_235>1)/len(n_sqr_235), np.sum(n_sqr_235>0)/len(n_sqr_235)"
   ]
  },
  {
   "cell_type": "code",
   "execution_count": 12,
   "metadata": {},
   "outputs": [],
   "source": [
    "beta = (3.5*p_t/p_s)*sigma_s\n",
    "ln_alpha_252 = np.log(F_252 / (R_252*p_s/p_t)**2) + ma.log(ma.log(2)/ma.pi) - ma.log(2) - ma.log(beta)\n",
    "ln_alpha_235 = np.log(F_235 / (R_235*p_s/p_t)**2) + ma.log(ma.log(2)/ma.pi) - ma.log(2) - ma.log(beta)"
   ]
  },
  {
   "cell_type": "code",
   "execution_count": 13,
   "metadata": {},
   "outputs": [],
   "source": [
    "ln_alpha_counts_252, ln_alpha_edges = np.histogram(ln_alpha_252, bins=100);\n",
    "ln_alpha_counts_235, ln_alpha_edges = np.histogram(ln_alpha_235, bins=ln_alpha_edges);\n",
    "ln_alpha_cumcounts_252 = np.cumsum(ln_alpha_counts_252)\n",
    "ln_alpha_cumcounts_235 = np.cumsum(ln_alpha_counts_235)"
   ]
  },
  {
   "cell_type": "code",
   "execution_count": 14,
   "metadata": {},
   "outputs": [],
   "source": [
    "log10_alpha_edges = ln_alpha_edges/ma.log(10)"
   ]
  },
  {
   "cell_type": "code",
   "execution_count": 15,
   "metadata": {},
   "outputs": [
    {
     "data": {
      "image/png": "[encoded data removed]",
      "text/plain": [
       "<matplotlib.figure.Figure at 0x7f55c06c4b38>"
      ]
     },
     "metadata": {},
     "output_type": "display_data"
    }
   ],
   "source": [
    "plt.figure(figsize=(4.75,3.15))\n",
    "plt.plot(log10_alpha_edges[0:-1], 1 - ln_alpha_cumcounts_252 / ln_alpha_cumcounts_252[-1], label='M < 25.2')\n",
    "plt.plot(log10_alpha_edges[0:-1], 1 - ln_alpha_cumcounts_235 / ln_alpha_cumcounts_235[-1], '--', label='M < 23.5')\n",
    "plt.axvline(x=ma.log10(alpha), linestyle='--', color='r')\n",
    "plt.xlim([-1,1.2])\n",
    "plt.ylabel('Proportion of galaxies')\n",
    "plt.xlabel(r'$\\log_{10}\\alpha$')\n",
    "plt.grid('on')\n",
    "plt.grid('on', which='minor', axis='x')\n",
    "plt.legend(loc='upper right')\n",
    "plt.gcf().subplots_adjust(bottom=0.2)\n",
    "\n",
    "if save_figures:\n",
    "    fig_path = expanduser(config['figure_path'] + '/calibration/cosmos_signal_noise_tradeoff.pdf')\n",
    "    plt.savefig(fig_path)"
   ]
  },
  {
   "cell_type": "code",
   "execution_count": null,
   "metadata": {},
   "outputs": [],
   "source": []
  }
 ],
 "metadata": {
  "hide_input": false,
  "kernelspec": {
   "display_name": "Python 3",
   "language": "python",
   "name": "python3"
  },
  "language_info": {
   "codemirror_mode": {
    "name": "ipython",
    "version": 3
   },
   "file_extension": ".py",
   "mimetype": "text/x-python",
   "name": "python",
   "nbconvert_exporter": "python",
   "pygments_lexer": "ipython3",
   "version": "3.5.3"
  },
  "toc": {
   "colors": {
    "hover_highlight": "#DAA520",
    "navigate_num": "#000000",
    "navigate_text": "#333333",
    "running_highlight": "#FF0000",
    "selected_highlight": "#FFD700",
    "sidebar_border": "#EEEEEE",
    "wrapper_background": "#FFFFFF"
   },
   "moveMenuLeft": true,
   "nav_menu": {
    "height": "12px",
    "width": "252px"
   },
   "navigate_menu": true,
   "number_sections": true,
   "sideBar": true,
   "threshold": 4,
   "toc_cell": false,
   "toc_section_display": "block",
   "toc_window_display": false,
   "widenNotebook": false
  }
 },
 "nbformat": 4,
 "nbformat_minor": 2
}
