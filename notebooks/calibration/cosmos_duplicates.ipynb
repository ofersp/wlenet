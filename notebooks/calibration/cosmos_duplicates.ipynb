{
 "cells": [
  {
   "cell_type": "markdown",
   "metadata": {},
   "source": [
    "### Invalidating COSMOS 23.5 catalog entries that are already present in the 25.2 catalog"
   ]
  },
  {
   "cell_type": "code",
   "execution_count": 1,
   "metadata": {},
   "outputs": [],
   "source": [
    "import os\n",
    "import numpy as np\n",
    "import matplotlib.pyplot as plt\n",
    "\n",
    "from os.path import expanduser\n",
    "from wlenet import config\n",
    "import astropy.io.fits as pyfits\n",
    "from multiprocessing import Pool, cpu_count"
   ]
  },
  {
   "cell_type": "code",
   "execution_count": 2,
   "metadata": {},
   "outputs": [],
   "source": [
    "save_valid_indices = False"
   ]
  },
  {
   "cell_type": "code",
   "execution_count": 3,
   "metadata": {},
   "outputs": [],
   "source": [
    "num_image_files = 57\n",
    "rgc_path = '~/datasets/wlenet/cosmos/COSMOS_23.5_training_sample/real_galaxy_catalog_23.5.fits'\n",
    "rgc_dir, rgc_file = os.path.split(os.path.expanduser(rgc_path))\n",
    "fits_file = os.path.splitext(rgc_file)[0] + '_fits.fits'\n",
    "rgc_catalog_235 = pyfits.getdata(os.path.join(rgc_dir, rgc_file))\n",
    "fit_catalog_235 = pyfits.getdata(os.path.join(rgc_dir, fits_file))"
   ]
  },
  {
   "cell_type": "code",
   "execution_count": 4,
   "metadata": {},
   "outputs": [],
   "source": [
    "num_image_files = 88\n",
    "rgc_path = '~/datasets/wlenet/cosmos/COSMOS_25.2_training_sample/real_galaxy_catalog_25.2.fits'\n",
    "rgc_dir, rgc_file = os.path.split(os.path.expanduser(rgc_path))\n",
    "fits_file = os.path.splitext(rgc_file)[0] + '_fits.fits'\n",
    "rgc_catalog_252 = pyfits.getdata(os.path.join(rgc_dir, rgc_file))\n",
    "fit_catalog_252 = pyfits.getdata(os.path.join(rgc_dir, fits_file))"
   ]
  },
  {
   "cell_type": "code",
   "execution_count": 5,
   "metadata": {},
   "outputs": [],
   "source": [
    "id_235 = rgc_catalog_235['IDENT']\n",
    "id_252 = rgc_catalog_252['IDENT']"
   ]
  },
  {
   "cell_type": "code",
   "execution_count": 6,
   "metadata": {},
   "outputs": [],
   "source": [
    "diff = set(id_235) - set(id_252)"
   ]
  },
  {
   "cell_type": "code",
   "execution_count": 7,
   "metadata": {},
   "outputs": [],
   "source": [
    "id_to_ind_235 = dict(zip(id_235, range(len(id_235))))\n",
    "id_to_ind_252 = dict(zip(id_252, range(len(id_252))))"
   ]
  },
  {
   "cell_type": "code",
   "execution_count": 8,
   "metadata": {},
   "outputs": [],
   "source": [
    "diff_ind_235 = [id_to_ind_235[id] for id in diff] "
   ]
  },
  {
   "cell_type": "code",
   "execution_count": 9,
   "metadata": {},
   "outputs": [
    {
     "data": {
      "text/plain": [
       "31194"
      ]
     },
     "execution_count": 9,
     "metadata": {},
     "output_type": "execute_result"
    }
   ],
   "source": [
    "len(diff_ind_235)"
   ]
  },
  {
   "cell_type": "code",
   "execution_count": 10,
   "metadata": {},
   "outputs": [
    {
     "data": {
      "image/png": "[encoded data removed]",
      "text/plain": [
       "<matplotlib.figure.Figure at 0x7fbcfc449d68>"
      ]
     },
     "metadata": {},
     "output_type": "display_data"
    }
   ],
   "source": [
    "plt.hist(rgc_catalog_252['MAG'], bins=np.linspace(16,25.2,20), log=True, alpha=0.5);\n",
    "plt.hist(rgc_catalog_235['MAG'][diff_ind_235], bins=np.linspace(16,25.2,20), log=True, alpha=0.5);\n",
    "plt.hist(rgc_catalog_235['MAG'], bins=np.linspace(16,25.2,20), log=True, alpha=0.5);"
   ]
  },
  {
   "cell_type": "code",
   "execution_count": 11,
   "metadata": {},
   "outputs": [],
   "source": [
    "if save_valid_indices:\n",
    "    valid_indices = diff_ind_235\n",
    "    valid_index_path = expanduser(config['calibration_path'] + '/cosmos_valid_indices_235.npy')\n",
    "    np.save(valid_index_path, valid_indices)"
   ]
  }
 ],
 "metadata": {
  "hide_input": false,
  "kernelspec": {
   "display_name": "Python 3",
   "language": "python",
   "name": "python3"
  },
  "language_info": {
   "codemirror_mode": {
    "name": "ipython",
    "version": 3
   },
   "file_extension": ".py",
   "mimetype": "text/x-python",
   "name": "python",
   "nbconvert_exporter": "python",
   "pygments_lexer": "ipython3",
   "version": "3.5.3"
  },
  "toc": {
   "colors": {
    "hover_highlight": "#DAA520",
    "navigate_num": "#000000",
    "navigate_text": "#333333",
    "running_highlight": "#FF0000",
    "selected_highlight": "#FFD700",
    "sidebar_border": "#EEEEEE",
    "wrapper_background": "#FFFFFF"
   },
   "moveMenuLeft": true,
   "nav_menu": {
    "height": "12px",
    "width": "252px"
   },
   "navigate_menu": true,
   "number_sections": true,
   "sideBar": true,
   "threshold": 4,
   "toc_cell": false,
   "toc_section_display": "block",
   "toc_window_display": false,
   "widenNotebook": false
  }
 },
 "nbformat": 4,
 "nbformat_minor": 2
}
